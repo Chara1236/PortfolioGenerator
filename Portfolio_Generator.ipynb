{
 "cells": [
  {
   "cell_type": "code",
   "execution_count": 1,
   "id": "8bac7277",
   "metadata": {},
   "outputs": [],
   "source": [
    "from IPython.display import display, Math, Latex\n",
    "import pandas as pd\n",
    "import numpy as np\n",
    "#import numpy_financial as npf\n",
    "import yfinance as yf\n",
    "import matplotlib.pyplot as plt\n",
    "import itertools\n",
    "import copy\n",
    "from datetime import datetime"
   ]
  },
  {
   "cell_type": "code",
   "execution_count": 5,
   "id": "19bae303",
   "metadata": {},
   "outputs": [],
   "source": [
    "MinStocks = 10\n",
    "MaxStocks = 22\n",
    "MaxWeight = 0.2\n",
    "MinWeight = 0.05\n",
    "Start_date = \"2023-01-01\"\n",
    "End_date = \"2023-06-30\"\n",
    "TradingFee = 4.95\n",
    "InvestmentAmount = 750000\n",
    "ticker_file = \"example_tickers2.csv\""
   ]
  },
  {
   "cell_type": "code",
   "execution_count": null,
   "id": "083ca916",
   "metadata": {},
   "outputs": [
    {
     "name": "stdout",
     "output_type": "stream",
     "text": [
      "[*********************100%%**********************]  1 of 1 completed\n"
     ]
    }
   ],
   "source": [
    "tickers = pd.read_csv(ticker_file, header=None)##Header is none to read in the first element.\n",
    "tickers.columns=[\"Tickers\"]\n",
    "exchangeCADUSD = yf.download('CADUSD=x', start=Start_date, end=End_date).tz_localize(None)\n",
    "tickers[1]"
   ]
  },
  {
   "cell_type": "code",
   "execution_count": 13,
   "id": "c37755d1",
   "metadata": {},
   "outputs": [],
   "source": [
    "def USDtoCAD(closing):\n",
    "    #Merges the closing data with the exchange data, then removes all na values (This makes sure each closing price is matched with its dates exchange rate)\n",
    "    exchanged = pd.concat([closing.to_frame(),exchangeCADUSD[\"Close\"]],axis=1).dropna()\n",
    "\n",
    "    #Since we are going USD to CAD, we divide by the exchange rate of that day\n",
    "    converted = exchanged.iloc[:,0]/exchanged.iloc[:,1]\n",
    "    return converted\n"
   ]
  },
  {
   "cell_type": "code",
   "execution_count": 14,
   "id": "7a168872",
   "metadata": {},
   "outputs": [],
   "source": [
    "## Consumes a series or listof possible stock symboles\n",
    "def validTickers (tickers):\n",
    "    ##Creates a new dataframe to hold the valid tickers closing prices\n",
    "    df = pd.DataFrame()\n",
    "\n",
    "    #Itterating through the tickers\n",
    "\n",
    "    for i in tickers:\n",
    "        #Creating the ticker objects\n",
    "        ticker = yf.Ticker(i)\n",
    "\n",
    "        #Try ensures that even if an error occurs, the code will still run (this gets past the delisted stocks)\n",
    "        try:\n",
    "            #Running .fast_info['currency'] on a stock will cause an error and stop any non-listed stocks from being ran\n",
    "            ticker.fast_info['currency']\n",
    "\n",
    "            #Download the Daily stock history for the given time periods\n",
    "            history = ticker.history(start=Start_date, end=End_date).tz_localize(None)\n",
    "\n",
    "            #Creates a seperate dataframe with the values collected by month\n",
    "            histByMonth = history['Volume'].to_frame().groupby([(history.index.month)])\n",
    "\n",
    "            #Drops any months with less than 18 trading days\n",
    "            histByMonth = histByMonth.filter(lambda x: len(x) > 17)\n",
    "\n",
    "            #Checks for an average monthly volume greater than 150,000\n",
    "            if histByMonth.sum().mean() > 150000:\n",
    "                #Checking if the stock is listed in CAD or USD\n",
    "                if ticker.fast_info['currency'] == 'CAD':\n",
    "\n",
    "                    #Adding the stock to the valid tickers dataframe\n",
    "                    df[i] = history['Close']\n",
    "\n",
    "                elif ticker.fast_info['currency'] == 'USD':\n",
    "\n",
    "                    #Adding the stocks closing data to the valid tickers dataframe after converting the prices to CAD\n",
    "                    df[i] = USDtoCAD(history['Close'])\n",
    "        except:\n",
    "            #skips and tickers which cause an error\n",
    "            pass\n",
    "    return df"
   ]
  },
  {
   "cell_type": "code",
   "execution_count": 15,
   "id": "d40d40cc",
   "metadata": {},
   "outputs": [
    {
     "data": {
      "text/html": [
       "<div>\n",
       "<style scoped>\n",
       "    .dataframe tbody tr th:only-of-type {\n",
       "        vertical-align: middle;\n",
       "    }\n",
       "\n",
       "    .dataframe tbody tr th {\n",
       "        vertical-align: top;\n",
       "    }\n",
       "\n",
       "    .dataframe thead th {\n",
       "        text-align: right;\n",
       "    }\n",
       "</style>\n",
       "<table border=\"1\" class=\"dataframe\">\n",
       "  <thead>\n",
       "    <tr style=\"text-align: right;\">\n",
       "      <th></th>\n",
       "    </tr>\n",
       "  </thead>\n",
       "  <tbody>\n",
       "  </tbody>\n",
       "</table>\n",
       "</div>"
      ],
      "text/plain": [
       "Empty DataFrame\n",
       "Columns: []\n",
       "Index: []"
      ]
     },
     "execution_count": 15,
     "metadata": {},
     "output_type": "execute_result"
    }
   ],
   "source": [
    "stocks_close = validTickers(tickers)\n",
    "stocks_close"
   ]
  },
  {
   "cell_type": "code",
   "execution_count": null,
   "id": "6a05db30",
   "metadata": {},
   "outputs": [],
   "source": []
  }
 ],
 "metadata": {
  "kernelspec": {
   "display_name": "CFM101",
   "language": "python",
   "name": "cfm101"
  },
  "language_info": {
   "codemirror_mode": {
    "name": "ipython",
    "version": 3
   },
   "file_extension": ".py",
   "mimetype": "text/x-python",
   "name": "python",
   "nbconvert_exporter": "python",
   "pygments_lexer": "ipython3",
   "version": "3.11.4"
  }
 },
 "nbformat": 4,
 "nbformat_minor": 5
}
